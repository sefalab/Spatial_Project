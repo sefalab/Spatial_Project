{
 "cells": [
  {
   "cell_type": "markdown",
   "metadata": {},
   "source": [
    "## Data Cleaning and Exploratory Data Analysis"
   ]
  },
  {
   "cell_type": "markdown",
   "metadata": {},
   "source": [
    "In this notebook we will be looking at the 2011 and 2017 data at hand. We will be cleaning and exploring the Building SPOT count data, neighbourhood polygon data and the satellite images. "
   ]
  },
  {
   "cell_type": "markdown",
   "metadata": {},
   "source": [
    "### 2011 Building SPOT count data"
   ]
  },
  {
   "cell_type": "code",
   "execution_count": 1,
   "metadata": {},
   "outputs": [],
   "source": [
    "import geopandas as gpd\n",
    "import matplotlib.pyplot as plt"
   ]
  },
  {
   "cell_type": "code",
   "execution_count": 7,
   "metadata": {},
   "outputs": [],
   "source": [
    "shp_2011 = gpd.GeoDataFrame.from_file('/mnt/data/home/amy/data/SBC_2011/SBC_2011.shp')"
   ]
  },
  {
   "cell_type": "code",
   "execution_count": 8,
   "metadata": {},
   "outputs": [
    {
     "data": {
      "text/plain": [
       "Index(['objectid', 'class_name', 'base_year', 'x_coord', 'y_coord',\n",
       "       'geometry'],\n",
       "      dtype='object')"
      ]
     },
     "execution_count": 8,
     "metadata": {},
     "output_type": "execute_result"
    }
   ],
   "source": [
    "shp_2011.columns.unique()"
   ]
  },
  {
   "cell_type": "code",
   "execution_count": 22,
   "metadata": {},
   "outputs": [
    {
     "data": {
      "text/plain": [
       "array(['Dwelling', 'School', None, 'Other Built-up', 'Complex/Hostel',\n",
       "       'Commercial', 'Industrial', 'Police Station', 'Health Facility',\n",
       "       'Other Buildup', 'Substation', 'Mine/Quarry',\n",
       "       'Government Building', 'Airport', 'Lodge', 'Resort',\n",
       "       'Dwellilg   (       (', 'industrial', 'Government Buildig',\n",
       "       'Under Construction', 'Game Reserve', 'Church',\n",
       "       'Dwelli.g            (  a   0', 'Reservior', 'Hostel',\n",
       "       'Sport Facility', 'College', 'Dwelning          !',\n",
       "       'Dwelling`      \\xa0         \\xa0', 'Dwelling      0',\n",
       "       'Dwelling                  (', 'Dwelling             (   \\xa0',\n",
       "       'Dwellino   0', 'D÷eìling          (',\n",
       "       'Dwelliîg (           ( $   (', 'Dwenling       0(',\n",
       "       'Ôwelling        0          $', 'Dwelling `   $          \"',\n",
       "       'Dwelling  (             0', 'Twmllino         0         \\xa0 !',\n",
       "       'Dwelling                0', 'Dwelling        00      0(',\n",
       "       'DwelLing     \"', 'Public Library', 'Fire Station',\n",
       "       'Othert built-up', 'Train Station', 'Agricultural Supply',\n",
       "       'Campsite/CaravanPark', 'Other Built_up', 'Non Existing',\n",
       "       'Agriculture', 'Community', 'Farm', 'Townhouse/Complex',\n",
       "       'Dwelling         0  `(', 'Dwelling $   (         !', 'Twelling',\n",
       "       '@wg,ling (           `', 'Dwelhing     `', 'Dwelling      \"',\n",
       "       'Other built-up', 'Dwelli~g             0',\n",
       "       'Dwelling   \"          \"    $', 'Dwelling  0',\n",
       "       'Dwelling                     `', 'Twelning \"          0    $',\n",
       "       'Lwulli~g', 'Dwelline            \"      \\xa0', 'Complex/Townhouse',\n",
       "       'Industrial/Comme', 'Power Utility', 'University', 'Rest Camp',\n",
       "       \"DWellin'     $!      (\", 'Correctional Service',\n",
       "       'Dwelling           (      !', 'Duellang', 'Dwelling 0',\n",
       "       'Dwelling               0', 'Twållhng  \\xa0',\n",
       "       'Dwellhng        `           !', 'Comp[lex/Hostel', 'Complex',\n",
       "       'Commerciall', 'Cormmercial', 'Taxi Rank', 'Other Buillt-up',\n",
       "       'Health facility', 'Flats', 'Post Office', 'Commercial (new)',\n",
       "       'Industrial (new)', 'Power Station', 'Correctional facility',\n",
       "       'Correctional Facility', 'Eskom Station', 'Nursery',\n",
       "       'Historic Site', 'Education Facility', 'RestRoom', 'Hotel',\n",
       "       'GardenCentre/Nursery', 'Recreational', 'Community Centre',\n",
       "       'Golf Estate', 'Recreation', 'Hostel/Complex',\n",
       "       'Hostel/Town Houses', 'Conference Centre', 'Chuch',\n",
       "       'Nature Reserve', 'Tower', 'Research Station',\n",
       "       'Other built-up area'], dtype=object)"
      ]
     },
     "execution_count": 22,
     "metadata": {},
     "output_type": "execute_result"
    }
   ],
   "source": [
    "shp_2011['class_name'].unique()"
   ]
  },
  {
   "cell_type": "code",
   "execution_count": null,
   "metadata": {},
   "outputs": [],
   "source": [
    "shp_2011=shp_2011.replace(\"\", \"Dwelling\")\n",
    "shp_2011=shp_2011.replace(\"\", \"Dwelling\")\n",
    "shp_2011=shp_2011.replace(\"\", \"Dwelling\")\n",
    "shp_2011=shp_2011.replace(\"\", \"Dwelling\")\n",
    "shp_2011=shp_2011.replace(\"\", \"Dwelling\")\n",
    "shp_2011=shp_2011.replace(\"\", \"Dwelling\")\n",
    "shp_2011=shp_2011.replace(\"D÷eìling          (\", \"Dwelling\")\n",
    "shp_2011=shp_2011.replace(\"Dwelliîg (           ( $   (\", \"Dwelling\")\n",
    "shp_2011=shp_2011.replace(\"Dwenling       0(\", \"Dwelling\")\n",
    "shp_2011=shp_2011.replace(\"Ôwelling        0          $\", \"Dwelling\")\n",
    "shp_2011=shp_2011.replace('Dwelling `   $          \"', \"Dwelling\")\n",
    "shp_2011=shp_2011.replace(\"Dwelling  (             0\", \"Dwelling\")\n",
    "shp_2011=shp_2011.replace(\"Twmllino         0         \\xa0 !\", \"Dwelling\")\n",
    "shp_2011=shp_2011.replace(\"Dwelling                0\", \"Dwelling\")\n",
    "shp_2011=shp_2011.replace('Dwelling      \"', 'Dwelling')\n",
    "shp_2011=shp_2011.replace(\"Dwelhing     `\", \"Dwelling\")\n",
    "shp_2011=shp_2011.replace(\"@wg,ling (           `\", \"Dwelling\")\n",
    "shp_2011=shp_2011.replace(\"Twelling\", \"Dwelling\")\n",
    "shp_2011=shp_2011.replace(\"Dwelling $   (         !\", \"Dwelling\")\n",
    "shp_2011=shp_2011.replace(\"Dwelling         0  `(\", \"Dwelling\")\n",
    "shp_2011=shp_2011.replace('DwelLing     \"', 'Dwelling')\n",
    "shp_2011=shp_2011.replace(\"Dwelling        00      0(\", \"Dwelling\")\n",
    "shp_2011=shp_2011.replace(\"Dwellhng        `           !\", \"Dwelling\")\n",
    "shp_2011=shp_2011.replace(\"Twållhng  \\xa0\", \"Dwelling\")\n",
    "shp_2011=shp_2011.replace(\"Dwelling               0\", \"Dwelling\")\n",
    "shp_2011=shp_2011.replace(\"Dwelling 0\", \"Dwelling\")\n",
    "shp_2011=shp_2011.replace(\"Duellang\", \"Dwelling\")\n",
    "shp_2011=shp_2011.replace(\"Dwelling           (      !\", \"Dwelling\")\n",
    "shp_2011=shp_2011.replace(\"DWellin'     $!      (\", \"Dwelling\")\n",
    "shp_2011=shp_2011.replace('Dwelline            \"      \\xa0', 'Dwelling')\n",
    "shp_2011=shp_2011.replace(\"Lwulli~g\", \"Dwelling\")\n",
    "shp_2011=shp_2011.replace('Twelning \"          0    $', 'Dwelling')\n",
    "shp_2011=shp_2011.replace(\"Dwelling                     `\", \"Dwelling\")\n",
    "shp_2011=shp_2011.replace(\"Dwelling  0\", \"Dwelling\")\n",
    "shp_2011=shp_2011.replace('Dwelling   \"          \"    $', 'Dwelling')\n",
    "shp_2011=shp_2011.replace(\"Dwelli~g             0\", \"Dwelling\")\n"
   ]
  },
  {
   "cell_type": "code",
   "execution_count": 21,
   "metadata": {},
   "outputs": [],
   "source": [
    "shp_2011=shp_2011.replace(\"Dwelléng\\xa0      `\", \"Dwelling\")\n",
    "shp_2011=shp_2011.replace(\"Dwe|ling     $         0\", \"Dwelling\")\n",
    "shp_2011=shp_2011.replace(\"Dwelling          ( (\", \"Dwelling\")\n",
    "shp_2011=shp_2011.replace(\"@welding           0     ` !\", \"Dwelling\")\n",
    "shp_2011=shp_2011.replace(\"Dwelling               0  $\", \"Dwelling\")\n",
    "shp_2011=shp_2011.replace(\"@welding           0     ` !\", \"Dwelling\")\n",
    "shp_2011=shp_2011.replace(\"Dwelling               0  $\", \"Dwelling\")\n",
    "shp_2011=shp_2011.replace(\"Dwell)ng\", \"Dwelling\")\n",
    "shp_2011=shp_2011.replace(\"Dwglling                  à\", \"Dwelling\")\n",
    "shp_2011=shp_2011.replace(\"Dwdlling    !\", \"Dwelling\")\n",
    "shp_2011=shp_2011.replace(\"Dwelling              !\", \"Dwelling\")\n",
    "shp_2011=shp_2011.replace(\"Dwel,ing \\x08\", \"Dwelling\")\n",
    "shp_2011=shp_2011.replace(\"Dwehling                     0\", \"Dwelling\")\n",
    "shp_2011=shp_2011.replace(\"Dwe|ling\", \"Dwelling\")\n",
    "shp_2011=shp_2011.replace(\"Dwelling              0 0\", \"Dwelling\")\n",
    "shp_2011=shp_2011.replace(\"Dwelling       `\", \"Dwelling\")"
   ]
  },
  {
   "cell_type": "code",
   "execution_count": null,
   "metadata": {},
   "outputs": [],
   "source": []
  }
 ],
 "metadata": {
  "kernelspec": {
   "display_name": "Python 3",
   "language": "python",
   "name": "python3"
  },
  "language_info": {
   "codemirror_mode": {
    "name": "ipython",
    "version": 3
   },
   "file_extension": ".py",
   "mimetype": "text/x-python",
   "name": "python",
   "nbconvert_exporter": "python",
   "pygments_lexer": "ipython3",
   "version": "3.6.4"
  }
 },
 "nbformat": 4,
 "nbformat_minor": 2
}
