{
 "cells": [
  {
   "cell_type": "code",
   "execution_count": 1,
   "id": "3ba97efd",
   "metadata": {},
   "outputs": [],
   "source": [
    "import tensorflow as tf\n",
    "from utils import config\n",
    "import random"
   ]
  },
  {
   "cell_type": "code",
   "execution_count": 3,
   "id": "2ca02e5c",
   "metadata": {},
   "outputs": [],
   "source": [
    "FILENAMES = tf.io.gfile.glob(config.bucket_dir)"
   ]
  },
  {
   "cell_type": "code",
   "execution_count": 11,
   "id": "1278feaa",
   "metadata": {},
   "outputs": [
    {
     "data": {
      "text/plain": [
       "[4, 0]"
      ]
     },
     "execution_count": 11,
     "metadata": {},
     "output_type": "execute_result"
    }
   ],
   "source": [
    "splits = random.sample(range(len(provinces)), 2)\n",
    "splits"
   ]
  },
  {
   "cell_type": "code",
   "execution_count": 8,
   "id": "fbcd60a9",
   "metadata": {},
   "outputs": [
    {
     "data": {
      "text/plain": [
       "['gs://purcodata/spatial/tf_records/FS-00000-of-00004.tfrecord',\n",
       " 'gs://purcodata/spatial/tf_records/FS-00001-of-00004.tfrecord',\n",
       " 'gs://purcodata/spatial/tf_records/FS-00002-of-00004.tfrecord',\n",
       " 'gs://purcodata/spatial/tf_records/FS-00003-of-00004.tfrecord',\n",
       " 'gs://purcodata/spatial/tf_records/GT-00000-of-00004.tfrecord',\n",
       " 'gs://purcodata/spatial/tf_records/GT-00001-of-00004.tfrecord',\n",
       " 'gs://purcodata/spatial/tf_records/GT-00002-of-00004.tfrecord',\n",
       " 'gs://purcodata/spatial/tf_records/GT-00003-of-00004.tfrecord',\n",
       " 'gs://purcodata/spatial/tf_records/KZN-00000-of-00004.tfrecord',\n",
       " 'gs://purcodata/spatial/tf_records/KZN-00001-of-00004.tfrecord',\n",
       " 'gs://purcodata/spatial/tf_records/KZN-00002-of-00004.tfrecord',\n",
       " 'gs://purcodata/spatial/tf_records/KZN-00003-of-00004.tfrecord',\n",
       " 'gs://purcodata/spatial/tf_records/LIM-00000-of-00004.tfrecord',\n",
       " 'gs://purcodata/spatial/tf_records/LIM-00001-of-00004.tfrecord',\n",
       " 'gs://purcodata/spatial/tf_records/LIM-00002-of-00004.tfrecord',\n",
       " 'gs://purcodata/spatial/tf_records/LIM-00003-of-00004.tfrecord',\n",
       " 'gs://purcodata/spatial/tf_records/MP-00000-of-00004.tfrecord',\n",
       " 'gs://purcodata/spatial/tf_records/MP-00001-of-00004.tfrecord',\n",
       " 'gs://purcodata/spatial/tf_records/MP-00002-of-00004.tfrecord',\n",
       " 'gs://purcodata/spatial/tf_records/MP-00003-of-00004.tfrecord',\n",
       " 'gs://purcodata/spatial/tf_records/NC-00000-of-00004.tfrecord',\n",
       " 'gs://purcodata/spatial/tf_records/NC-00001-of-00004.tfrecord',\n",
       " 'gs://purcodata/spatial/tf_records/NC-00002-of-00004.tfrecord',\n",
       " 'gs://purcodata/spatial/tf_records/NC-00003-of-00004.tfrecord',\n",
       " 'gs://purcodata/spatial/tf_records/NW-00000-of-00004.tfrecord',\n",
       " 'gs://purcodata/spatial/tf_records/NW-00001-of-00004.tfrecord',\n",
       " 'gs://purcodata/spatial/tf_records/NW-00002-of-00004.tfrecord',\n",
       " 'gs://purcodata/spatial/tf_records/NW-00003-of-00004.tfrecord',\n",
       " 'gs://purcodata/spatial/tf_records/WC-00000-of-00004.tfrecord',\n",
       " 'gs://purcodata/spatial/tf_records/WC-00001-of-00004.tfrecord',\n",
       " 'gs://purcodata/spatial/tf_records/WC-00002-of-00004.tfrecord',\n",
       " 'gs://purcodata/spatial/tf_records/WC-00003-of-00004.tfrecord']"
      ]
     },
     "execution_count": 8,
     "metadata": {},
     "output_type": "execute_result"
    }
   ],
   "source": [
    "prov = 'EC'\n",
    "provinces =config.provinces\n",
    "provinces= [x for x in provinces if prov not in x]\n",
    "FILENAMES = [x for x in FILENAMES if prov not in x]\n",
    "\n",
    "content"
   ]
  },
  {
   "cell_type": "code",
   "execution_count": 2,
   "id": "baf47d11",
   "metadata": {},
   "outputs": [
    {
     "data": {
      "text/plain": [
       "'gs://purcodata/spatial'"
      ]
     },
     "execution_count": 2,
     "metadata": {},
     "output_type": "execute_result"
    }
   ],
   "source": [
    "config.tf_data_dir"
   ]
  },
  {
   "cell_type": "code",
   "execution_count": null,
   "id": "0f642c14",
   "metadata": {},
   "outputs": [],
   "source": []
  }
 ],
 "metadata": {
  "kernelspec": {
   "display_name": "Python 3",
   "language": "python",
   "name": "python3"
  },
  "language_info": {
   "codemirror_mode": {
    "name": "ipython",
    "version": 3
   },
   "file_extension": ".py",
   "mimetype": "text/x-python",
   "name": "python",
   "nbconvert_exporter": "python",
   "pygments_lexer": "ipython3",
   "version": "3.6.13"
  }
 },
 "nbformat": 4,
 "nbformat_minor": 5
}
